{
 "cells": [
  {
   "cell_type": "code",
   "execution_count": 6,
   "metadata": {},
   "outputs": [],
   "source": [
    "import cv2\n",
    "import glob\n",
    "import shutil\n",
    "import numpy as np\n",
    "import nibabel as nib"
   ]
  },
  {
   "cell_type": "code",
   "execution_count": 7,
   "metadata": {},
   "outputs": [
    {
     "name": "stdout",
     "output_type": "stream",
     "text": [
      "227\n"
     ]
    }
   ],
   "source": [
    "nii_files = glob.glob(\"Train_Data/*.nii\")\n",
    "print(len(nii_files))"
   ]
  },
  {
   "cell_type": "code",
   "execution_count": 8,
   "metadata": {},
   "outputs": [
    {
     "name": "stdout",
     "output_type": "stream",
     "text": [
      "{(256, 256, 36): 188, (192, 256, 26): 6, (256, 256, 45): 33}\n"
     ]
    }
   ],
   "source": [
    "shapes = {}\n",
    "\n",
    "for i in nii_files:\n",
    "    nii_data = nib.load(i).get_fdata()\n",
    "    \n",
    "    if (shapes.get(nii_data.shape) == None):\n",
    "        shapes[nii_data.shape] = 1\n",
    "    else:\n",
    "        shapes[nii_data.shape] = shapes[nii_data.shape] + 1\n",
    "\n",
    "print(shapes)"
   ]
  },
  {
   "cell_type": "code",
   "execution_count": 9,
   "metadata": {},
   "outputs": [],
   "source": [
    "for i in nii_files:\n",
    "    nii_data = nib.load(i)\n",
    "\n",
    "    if (nii_data.get_fdata().shape == (256, 256, 36)):\n",
    "        temp_data = nii_data.get_fdata().T\n",
    "\n",
    "        for j in temp_data:\n",
    "            temp_final_data = cv2.resize(temp_data, (192, 192), interpolation = cv2.INTER_LINEAR)\n",
    "        \n",
    "        temp_final_data = np.array(temp_final_data).T\n",
    "        nif_img = nib.nifti1.Nifti1Image(temp_final_data, nii_data.affine)\n",
    "\n",
    "        nib.save(nif_img, \"Train_Data_Uniform/{}\".format(i[-21:]))\n",
    "    # else:\n",
    "        # shutil.copy(i, \"Train_Data_Uniform/{}\".format(i[-21:]))"
   ]
  },
  {
   "cell_type": "code",
   "execution_count": 5,
   "metadata": {},
   "outputs": [],
   "source": [
    "# for i in nii_files:\n",
    "#     nii_data = nib.load(i)\n",
    "#     temp_data = nii_data.get_fdata().T\n",
    "\n",
    "#     for j in temp_data:\n",
    "#         temp_final_data = cv2.resize(temp_data, (192, 192), interpolation = cv2.INTER_LINEAR)\n",
    "    \n",
    "#     temp_final_data = np.array(temp_final_data).T\n",
    "#     nif_img = nib.nifti1.Nifti1Image(temp_final_data, nii_data.affine)\n",
    "\n",
    "#     nib.save(nif_img, \"Train_Data_Uniform/{}\".format(i[-21:]))"
   ]
  }
 ],
 "metadata": {
  "kernelspec": {
   "display_name": "Python 3",
   "language": "python",
   "name": "python3"
  },
  "language_info": {
   "codemirror_mode": {
    "name": "ipython",
    "version": 3
   },
   "file_extension": ".py",
   "mimetype": "text/x-python",
   "name": "python",
   "nbconvert_exporter": "python",
   "pygments_lexer": "ipython3",
   "version": "3.11.4"
  }
 },
 "nbformat": 4,
 "nbformat_minor": 2
}
