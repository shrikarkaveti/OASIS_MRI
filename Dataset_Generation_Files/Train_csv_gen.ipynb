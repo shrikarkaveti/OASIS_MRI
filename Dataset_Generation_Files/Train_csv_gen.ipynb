{
 "cells": [
  {
   "cell_type": "code",
   "execution_count": 33,
   "metadata": {},
   "outputs": [],
   "source": [
    "import glob\n",
    "import pandas as pd"
   ]
  },
  {
   "cell_type": "code",
   "execution_count": 34,
   "metadata": {},
   "outputs": [
    {
     "name": "stdout",
     "output_type": "stream",
     "text": [
      "317\n"
     ]
    },
    {
     "data": {
      "text/html": [
       "<div>\n",
       "<style scoped>\n",
       "    .dataframe tbody tr th:only-of-type {\n",
       "        vertical-align: middle;\n",
       "    }\n",
       "\n",
       "    .dataframe tbody tr th {\n",
       "        vertical-align: top;\n",
       "    }\n",
       "\n",
       "    .dataframe thead th {\n",
       "        text-align: right;\n",
       "    }\n",
       "</style>\n",
       "<table border=\"1\" class=\"dataframe\">\n",
       "  <thead>\n",
       "    <tr style=\"text-align: right;\">\n",
       "      <th></th>\n",
       "      <th>MRI_ID</th>\n",
       "      <th>OAS_Session_ID</th>\n",
       "      <th>days_to_visit</th>\n",
       "      <th>age_at_visit</th>\n",
       "      <th>MMSE</th>\n",
       "      <th>memory</th>\n",
       "      <th>orient</th>\n",
       "      <th>judgment</th>\n",
       "      <th>commun</th>\n",
       "      <th>homehobb</th>\n",
       "      <th>perscare</th>\n",
       "      <th>CDRTOT</th>\n",
       "    </tr>\n",
       "  </thead>\n",
       "  <tbody>\n",
       "    <tr>\n",
       "      <th>0</th>\n",
       "      <td>OAS30001_MR_d0129</td>\n",
       "      <td>OAS30001_UDSb4_d0000</td>\n",
       "      <td>0</td>\n",
       "      <td>65.19</td>\n",
       "      <td>28.0</td>\n",
       "      <td>0.0</td>\n",
       "      <td>0.0</td>\n",
       "      <td>0.0</td>\n",
       "      <td>0.0</td>\n",
       "      <td>0.0</td>\n",
       "      <td>0</td>\n",
       "      <td>0.0</td>\n",
       "    </tr>\n",
       "    <tr>\n",
       "      <th>1</th>\n",
       "      <td>OAS30001_MR_d0757</td>\n",
       "      <td>OAS30001_UDSb4_d0722</td>\n",
       "      <td>722</td>\n",
       "      <td>67.17</td>\n",
       "      <td>30.0</td>\n",
       "      <td>0.0</td>\n",
       "      <td>0.0</td>\n",
       "      <td>0.0</td>\n",
       "      <td>0.0</td>\n",
       "      <td>0.0</td>\n",
       "      <td>0</td>\n",
       "      <td>0.0</td>\n",
       "    </tr>\n",
       "    <tr>\n",
       "      <th>2</th>\n",
       "      <td>OAS30001_MR_d2430</td>\n",
       "      <td>OAS30001_UDSb4_d2181</td>\n",
       "      <td>2181</td>\n",
       "      <td>71.17</td>\n",
       "      <td>30.0</td>\n",
       "      <td>0.0</td>\n",
       "      <td>0.0</td>\n",
       "      <td>0.0</td>\n",
       "      <td>0.0</td>\n",
       "      <td>0.0</td>\n",
       "      <td>0</td>\n",
       "      <td>0.0</td>\n",
       "    </tr>\n",
       "    <tr>\n",
       "      <th>3</th>\n",
       "      <td>OAS30001_MR_d3132</td>\n",
       "      <td>OAS30001_UDSb4_d3025</td>\n",
       "      <td>3025</td>\n",
       "      <td>73.48</td>\n",
       "      <td>30.0</td>\n",
       "      <td>0.0</td>\n",
       "      <td>0.0</td>\n",
       "      <td>0.0</td>\n",
       "      <td>0.0</td>\n",
       "      <td>0.0</td>\n",
       "      <td>0</td>\n",
       "      <td>0.0</td>\n",
       "    </tr>\n",
       "    <tr>\n",
       "      <th>4</th>\n",
       "      <td>OAS30001_MR_d3746</td>\n",
       "      <td>OAS30001_UDSb4_d3675</td>\n",
       "      <td>3675</td>\n",
       "      <td>75.26</td>\n",
       "      <td>29.0</td>\n",
       "      <td>0.0</td>\n",
       "      <td>0.0</td>\n",
       "      <td>0.0</td>\n",
       "      <td>0.0</td>\n",
       "      <td>0.0</td>\n",
       "      <td>0</td>\n",
       "      <td>0.0</td>\n",
       "    </tr>\n",
       "  </tbody>\n",
       "</table>\n",
       "</div>"
      ],
      "text/plain": [
       "              MRI_ID        OAS_Session_ID  days_to_visit  age_at_visit  MMSE  \\\n",
       "0  OAS30001_MR_d0129  OAS30001_UDSb4_d0000              0         65.19  28.0   \n",
       "1  OAS30001_MR_d0757  OAS30001_UDSb4_d0722            722         67.17  30.0   \n",
       "2  OAS30001_MR_d2430  OAS30001_UDSb4_d2181           2181         71.17  30.0   \n",
       "3  OAS30001_MR_d3132  OAS30001_UDSb4_d3025           3025         73.48  30.0   \n",
       "4  OAS30001_MR_d3746  OAS30001_UDSb4_d3675           3675         75.26  29.0   \n",
       "\n",
       "   memory  orient  judgment  commun  homehobb  perscare  CDRTOT  \n",
       "0     0.0     0.0       0.0     0.0       0.0         0     0.0  \n",
       "1     0.0     0.0       0.0     0.0       0.0         0     0.0  \n",
       "2     0.0     0.0       0.0     0.0       0.0         0     0.0  \n",
       "3     0.0     0.0       0.0     0.0       0.0         0     0.0  \n",
       "4     0.0     0.0       0.0     0.0       0.0         0     0.0  "
      ]
     },
     "execution_count": 34,
     "metadata": {},
     "output_type": "execute_result"
    }
   ],
   "source": [
    "data_gen_csv = pd.read_csv(\"data_gen_csv.csv\")\n",
    "print(len(data_gen_csv))\n",
    "data_gen_csv.head()"
   ]
  },
  {
   "cell_type": "code",
   "execution_count": 35,
   "metadata": {},
   "outputs": [
    {
     "name": "stdout",
     "output_type": "stream",
     "text": [
      "OAS30001_MR_d0129\n",
      "558\n"
     ]
    }
   ],
   "source": [
    "train_data = glob.glob(\"Train_Data/*.nii\")\n",
    "print(train_data[0][11:-14])\n",
    "print(len(train_data))"
   ]
  },
  {
   "cell_type": "code",
   "execution_count": 36,
   "metadata": {},
   "outputs": [
    {
     "name": "stdout",
     "output_type": "stream",
     "text": [
      "OAS30001_MR_d0129\n"
     ]
    }
   ],
   "source": [
    "print(data_gen_csv.iat[0, 0])"
   ]
  },
  {
   "cell_type": "code",
   "execution_count": 37,
   "metadata": {},
   "outputs": [],
   "source": [
    "train_data_index = 0\n",
    "data_csv_index = 0\n",
    "\n",
    "train_csv = []\n",
    "\n",
    "while (train_data_index < len(train_data)):\n",
    "    if (train_data[train_data_index][11:-14] == data_gen_csv.iat[data_csv_index, 0]):\n",
    "        train_csv.append(data_gen_csv.loc[data_csv_index].to_list())\n",
    "        train_data_index = train_data_index + 1\n",
    "    else:\n",
    "        data_csv_index = data_csv_index + 1"
   ]
  },
  {
   "cell_type": "code",
   "execution_count": 38,
   "metadata": {},
   "outputs": [],
   "source": [
    "train_df = pd.DataFrame(train_csv, columns = [\"MRI_ID\", \"OAS_Session_ID\", \"days_to_visit\", \"age_at_visit\", \"MMSE\", \"memory\", \"orient\", \"judgment\", \"commun\", \"homehobb\", \"perscare\", \"CDRTOT\"])\n",
    "train_df.to_csv(\"Train_csv.csv\", index = False)"
   ]
  }
 ],
 "metadata": {
  "kernelspec": {
   "display_name": "Python 3",
   "language": "python",
   "name": "python3"
  },
  "language_info": {
   "codemirror_mode": {
    "name": "ipython",
    "version": 3
   },
   "file_extension": ".py",
   "mimetype": "text/x-python",
   "name": "python",
   "nbconvert_exporter": "python",
   "pygments_lexer": "ipython3",
   "version": "3.11.4"
  }
 },
 "nbformat": 4,
 "nbformat_minor": 2
}
