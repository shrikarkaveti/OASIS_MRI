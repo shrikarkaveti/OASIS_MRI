{
 "cells": [
  {
   "cell_type": "code",
   "execution_count": 10,
   "metadata": {},
   "outputs": [],
   "source": [
    "import re\n",
    "import glob\n",
    "import gzip\n",
    "import shutil\n",
    "import zipfile"
   ]
  },
  {
   "cell_type": "code",
   "execution_count": null,
   "metadata": {},
   "outputs": [],
   "source": [
    "# Data Folder contains the zips files downloaded using download_dataset.sh\n",
    "data_files = glob.glob(\"data/*.zip\")\n",
    "extraction_file_address = []\n",
    "\n",
    "for zip_file_name in data_files:\n",
    "    with zipfile.ZipFile(zip_file_name, mode = \"r\") as outer_zip:\n",
    "        file_name = outer_zip.namelist()\n",
    "        \n",
    "        for nii_file in file_name:\n",
    "            if (nii_file[-2:] == \"gz\"):\n",
    "                extraction_file_address.append(nii_file)\n",
    "                outer_zip.extract(nii_file, \"extracted_zip/\")"
   ]
  },
  {
   "cell_type": "code",
   "execution_count": 24,
   "metadata": {},
   "outputs": [],
   "source": [
    "for extraction_file_name in extraction_file_address:\n",
    "    with gzip.open(\"extracted_zip/\" + extraction_file_name, \"rb\") as f_in:\n",
    "        with open(\"Train_Data/{}_{}.nii\".format(extraction_file_name[:17], extraction_file_name[24:33]), \"wb\") as f_out:\n",
    "            shutil.copyfileobj(f_in, f_out)"
   ]
  }
 ],
 "metadata": {
  "kernelspec": {
   "display_name": "Python 3",
   "language": "python",
   "name": "python3"
  },
  "language_info": {
   "codemirror_mode": {
    "name": "ipython",
    "version": 3
   },
   "file_extension": ".py",
   "mimetype": "text/x-python",
   "name": "python",
   "nbconvert_exporter": "python",
   "pygments_lexer": "ipython3",
   "version": "3.11.4"
  }
 },
 "nbformat": 4,
 "nbformat_minor": 2
}
